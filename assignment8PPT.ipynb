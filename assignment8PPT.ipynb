{
  "nbformat": 4,
  "nbformat_minor": 0,
  "metadata": {
    "colab": {
      "provenance": []
    },
    "kernelspec": {
      "name": "python3",
      "display_name": "Python 3"
    },
    "language_info": {
      "name": "python"
    }
  },
  "cells": [
    {
      "cell_type": "markdown",
      "source": [
        "<aside>\n",
        "💡 **Question 1**\n",
        "\n",
        "Given two strings s1 and s2, return *the lowest **ASCII** sum of deleted characters to make two strings equal*.\n",
        "\n",
        "**Example 1:**\n",
        "\n",
        "**Input:** s1 = \"sea\", s2 = \"eat\"\n",
        "\n",
        "**Output:** 231\n",
        "\n",
        "**Explanation:** Deleting \"s\" from \"sea\" adds the ASCII value of \"s\" (115) to the sum.\n",
        "\n",
        "Deleting \"t\" from \"eat\" adds 116 to the sum.\n",
        "\n",
        "At the end, both strings are equal, and 115 + 116 = 231 is the minimum sum possible to achieve this.\n",
        "\n",
        "</aside>"
      ],
      "metadata": {
        "id": "eWU71tVozOFQ"
      }
    },
    {
      "cell_type": "code",
      "source": [
        "def minimumDeleteSum(s1, s2):\n",
        "    m, n = len(s1), len(s2)\n",
        "    dp = [[0] * (n + 1) for _ in range(m + 1)]\n",
        "\n",
        "    for i in range(m - 1, -1, -1):\n",
        "        dp[i][n] = dp[i+1][n] + ord(s1[i])\n",
        "\n",
        "    for j in range(n - 1, -1, -1):\n",
        "        dp[m][j] = dp[m][j+1] + ord(s2[j])\n",
        "\n",
        "    for i in range(m - 1, -1, -1):\n",
        "        for j in range(n - 1, -1, -1):\n",
        "            dp[i][j] = dp[i+1][j+1] if s1[i] == s2[j] else min(dp[i+1][j] + ord(s1[i]), dp[i][j+1] + ord(s2[j]))\n",
        "\n",
        "    return dp[0][0]\n",
        "\n",
        "\n",
        "s1 = \"sea\"\n",
        "s2 = \"eat\"\n",
        "print(minimumDeleteSum(s1, s2))  \n"
      ],
      "metadata": {
        "colab": {
          "base_uri": "https://localhost:8080/"
        },
        "id": "hPZU_6LCzPSE",
        "outputId": "5c512fdc-6953-49e2-b2ba-1b454f6d24ed"
      },
      "execution_count": 5,
      "outputs": [
        {
          "output_type": "stream",
          "name": "stdout",
          "text": [
            "231\n"
          ]
        }
      ]
    },
    {
      "cell_type": "markdown",
      "source": [
        "<aside>\n",
        "💡 **Question 2**\n",
        "\n",
        "Given a string s containing only three types of characters: '(', ')' and '*', return true *if* s *is **valid***.\n",
        "\n",
        "The following rules define a **valid** string:\n",
        "\n",
        "- Any left parenthesis '(' must have a corresponding right parenthesis ')'.\n",
        "- Any right parenthesis ')' must have a corresponding left parenthesis '('.\n",
        "- Left parenthesis '(' must go before the corresponding right parenthesis ')'.\n",
        "- '*' could be treated as a single right parenthesis ')' or a single left parenthesis '(' or an empty string \"\".\n",
        "\n",
        "**Example 1:**\n",
        "\n",
        "**Input:** s = \"()\"\n",
        "\n",
        "**Output:**\n",
        "\n",
        "true\n",
        "\n",
        "</aside>"
      ],
      "metadata": {
        "id": "EmFkeBh19_KT"
      }
    },
    {
      "cell_type": "code",
      "source": [
        "def is_valid(s):\n",
        "    minCount = 0\n",
        "    maxCount = 0\n",
        "    \n",
        "    for char in s:\n",
        "        if char == '(':\n",
        "            minCount += 1\n",
        "            maxCount += 1\n",
        "        elif char == ')':\n",
        "            minCount -= 1\n",
        "            maxCount -= 1\n",
        "        elif char == '*':\n",
        "            minCount -= 1\n",
        "            maxCount += 1\n",
        "        \n",
        "        if maxCount < 0:\n",
        "            return False\n",
        "        \n",
        "        minCount = max(0, minCount)\n",
        "    \n",
        "    return minCount == 0\n",
        "\n",
        "\n",
        "s = \"()\"\n",
        "print(is_valid(s)) \n"
      ],
      "metadata": {
        "colab": {
          "base_uri": "https://localhost:8080/"
        },
        "id": "YXOL95V-F5Wd",
        "outputId": "3045882b-686e-413a-9ea3-3710d9943f12"
      },
      "execution_count": 6,
      "outputs": [
        {
          "output_type": "stream",
          "name": "stdout",
          "text": [
            "True\n"
          ]
        }
      ]
    },
    {
      "cell_type": "markdown",
      "source": [
        "<aside>\n",
        "💡 **Question 3**\n",
        "\n",
        "Given two strings word1 and word2, return *the minimum number of **steps** required to make* word1 *and* word2 *the same*.\n",
        "\n",
        "In one **step**, you can delete exactly one character in either string.\n",
        "\n",
        "**Example 1:**\n",
        "\n",
        "**Input:** word1 = \"sea\", word2 = \"eat\"\n",
        "\n",
        "**Output:** 2\n",
        "\n",
        "**Explanation:** You need one step to make \"sea\" to \"ea\" and another step to make \"eat\" to \"ea\".\n",
        "\n",
        "</aside>\n"
      ],
      "metadata": {
        "id": "RW_9oIdbHGpd"
      }
    },
    {
      "cell_type": "code",
      "source": [
        "def minSteps(word1, word2):\n",
        "    m = len(word1)\n",
        "    n = len(word2)\n",
        "\n",
        "    dp = [[0] * (n+1) for _ in range(m+1)]\n",
        "\n",
        "    for i in range(1, m+1):\n",
        "        for j in range(1, n+1):\n",
        "            if word1[i-1] == word2[j-1]:\n",
        "                dp[i][j] = dp[i-1][j-1] + 1\n",
        "            else:\n",
        "                dp[i][j] = max(dp[i-1][j], dp[i][j-1])\n",
        "\n",
        "    lcs_length = dp[m][n]\n",
        "    steps = m + n - 2 * lcs_length\n",
        "\n",
        "    return steps\n",
        "\n",
        "word1 = \"sea\"\n",
        "word2 = \"eat\"\n",
        "print(minSteps(word1, word2))\n"
      ],
      "metadata": {
        "colab": {
          "base_uri": "https://localhost:8080/"
        },
        "id": "MGYoFtgQG81g",
        "outputId": "a4413ecb-acbb-46f1-a17e-4405253c9830"
      },
      "execution_count": 7,
      "outputs": [
        {
          "output_type": "stream",
          "name": "stdout",
          "text": [
            "2\n"
          ]
        }
      ]
    },
    {
      "cell_type": "markdown",
      "source": [
        "<aside>\n",
        "💡 **Question 5**\n",
        "\n",
        "Given an array of characters chars, compress it using the following algorithm:\n",
        "\n",
        "Begin with an empty string s. For each group of **consecutive repeating characters** in chars:\n",
        "\n",
        "- If the group's length is 1, append the character to s.\n",
        "- Otherwise, append the character followed by the group's length.\n",
        "\n",
        "The compressed string s **should not be returned separately**, but instead, be stored **in the input character array chars**. Note that group lengths that are 10 or longer will be split into multiple characters in chars.\n",
        "\n",
        "After you are done **modifying the input array,** return *the new length of the array*.\n",
        "\n",
        "You must write an algorithm that uses only constant extra space.\n",
        "\n",
        "**Example 1:**\n",
        "\n",
        "**Input:** chars = [\"a\",\"a\",\"b\",\"b\",\"c\",\"c\",\"c\"]\n",
        "\n",
        "**Output:** Return 6, and the first 6 characters of the input array should be: [\"a\",\"2\",\"b\",\"2\",\"c\",\"3\"]\n",
        "\n",
        "**Explanation:**\n",
        "\n",
        "The groups are \"aa\", \"bb\", and \"ccc\". This compresses to \"a2b2c3\".\n",
        "\n",
        "</aside>"
      ],
      "metadata": {
        "id": "KL-pvzuOHuJ7"
      }
    },
    {
      "cell_type": "code",
      "source": [
        "def compress(chars):\n",
        "    write_idx = 0\n",
        "    count = 1\n",
        "\n",
        "    for i in range(1, len(chars)):\n",
        "        if chars[i] == chars[i - 1]:\n",
        "            count += 1\n",
        "        else:\n",
        "            chars[write_idx] = chars[i - 1]\n",
        "            write_idx += 1\n",
        "\n",
        "            if count > 1:\n",
        "                count_str = str(count)\n",
        "                chars[write_idx:write_idx+len(count_str)] = count_str\n",
        "                write_idx += len(count_str)\n",
        "\n",
        "            count = 1\n",
        "\n",
        "    chars[write_idx] = chars[-1]\n",
        "    write_idx += 1\n",
        "\n",
        "    if count > 1:\n",
        "        count_str = str(count)\n",
        "        chars[write_idx:write_idx+len(count_str)] = count_str\n",
        "        write_idx += len(count_str)\n",
        "\n",
        "    return write_idx\n",
        "\n",
        "\n",
        "chars = [\"a\", \"a\", \"b\", \"b\", \"c\", \"c\", \"c\"]\n",
        "new_length = compress(chars)\n",
        "print(new_length)  # Output: 6\n",
        "print(chars[:new_length])  # Output: [\"a\", \"2\", \"b\", \"2\", \"c\", \"3\"]\n"
      ],
      "metadata": {
        "colab": {
          "base_uri": "https://localhost:8080/"
        },
        "id": "hoa7HHOS7R1s",
        "outputId": "a839027d-f47e-4028-ec0e-c872ecb76a9c"
      },
      "execution_count": 8,
      "outputs": [
        {
          "output_type": "stream",
          "name": "stdout",
          "text": [
            "6\n",
            "['a', '2', 'b', '2', 'c', '3']\n"
          ]
        }
      ]
    },
    {
      "cell_type": "markdown",
      "source": [
        "<aside>\n",
        "💡 **Question 7**\n",
        "\n",
        "Given an encoded string, return its decoded string.\n",
        "\n",
        "The encoding rule is: k[encoded_string], where the encoded_string inside the square brackets is being repeated exactly k times. Note that k is guaranteed to be a positive integer.\n",
        "\n",
        "You may assume that the input string is always valid; there are no extra white spaces, square brackets are well-formed, etc. Furthermore, you may assume that the original data does not contain any digits and that digits are only for those repeat numbers, k. For example, there will not be input like 3a or 2[4].\n",
        "\n",
        "The test cases are generated so that the length of the output will never exceed 105.\n",
        "\n",
        "**Example 1:**\n",
        "\n",
        "**Input:** s = \"3[a]2[bc]\"\n",
        "\n",
        "**Output:** \"aaabcbc\"\n",
        "\n",
        "</aside>"
      ],
      "metadata": {
        "id": "ahJevKWx7Nf5"
      }
    },
    {
      "cell_type": "code",
      "source": [
        "from collections import Counter\n",
        "\n",
        "def findAnagrams(s, p):\n",
        "    p_len = len(p)\n",
        "    p_counter = Counter(p)\n",
        "    result = []\n",
        "    \n",
        "    for i in range(len(s) - p_len + 1):\n",
        "        if Counter(s[i:i+p_len]) == p_counter:\n",
        "            result.append(i)\n",
        "    \n",
        "    return result\n",
        "\n",
        "s = \"cbaebabacd\"\n",
        "p = \"abc\"\n",
        "print(findAnagrams(s, p))\n",
        "\n"
      ],
      "metadata": {
        "colab": {
          "base_uri": "https://localhost:8080/"
        },
        "id": "Dk-I8E9oH2P9",
        "outputId": "bf54be76-1dd1-46d3-dc45-fed44c72e0ce"
      },
      "execution_count": 9,
      "outputs": [
        {
          "output_type": "stream",
          "name": "stdout",
          "text": [
            "[0, 6]\n"
          ]
        }
      ]
    },
    {
      "cell_type": "markdown",
      "source": [
        "<aside>\n",
        "💡 **Question 8**\n",
        "\n",
        "Given two strings s and goal, return true *if you can swap two letters in* s *so the result is equal to* goal*, otherwise, return* false*.*\n",
        "\n",
        "Swapping letters is defined as taking two indices i and j (0-indexed) such that i != j and swapping the characters at s[i] and s[j].\n",
        "\n",
        "- For example, swapping at indices 0 and 2 in \"abcd\" results in \"cbad\".\n",
        "\n",
        "**Example 1:**\n",
        "\n",
        "**Input:** s = \"ab\", goal = \"ba\"\n",
        "\n",
        "**Output:** true\n",
        "\n",
        "**Explanation:** You can swap s[0] = 'a' and s[1] = 'b' to get \"ba\", which is equal to goal.\n",
        "\n",
        "</aside>"
      ],
      "metadata": {
        "id": "I43JIOTR1jCt"
      }
    },
    {
      "cell_type": "code",
      "source": [
        "def can_swapped_strings(s,goal):\n",
        "  if len(s)!=len(goal):\n",
        "    return False\n",
        "\n",
        "  if len(s)==len(goal):\n",
        "    return True\n",
        "\n",
        "  diff_s=[]\n",
        "  diff_goal=[]\n",
        "\n",
        "  for i in range(len(s)):\n",
        "    if s[i]!=goal[i]:\n",
        "      diff_s.append9(i)\n",
        "      diff_goal.append(i)\n",
        "\n",
        "  if len(diff_s)!=len(diff_goal) or len(diff_s)!=2:\n",
        "    return False\n",
        "\n",
        "  return s[diff_s[0]]==goal[diff_goal[1]] and s[diff_s[1]]==goal[diff_goal[0]]\n",
        "\n",
        "\n",
        "s = \"ab\"\n",
        "goal = \"ba\"\n",
        "print(can_swapped_strings(s,goal))"
      ],
      "metadata": {
        "colab": {
          "base_uri": "https://localhost:8080/"
        },
        "id": "4Hr8HT3Q1kh6",
        "outputId": "a0fbac83-f189-4559-dfad-4c2585bee9f4"
      },
      "execution_count": 3,
      "outputs": [
        {
          "output_type": "stream",
          "name": "stdout",
          "text": [
            "True\n"
          ]
        }
      ]
    }
  ]
}